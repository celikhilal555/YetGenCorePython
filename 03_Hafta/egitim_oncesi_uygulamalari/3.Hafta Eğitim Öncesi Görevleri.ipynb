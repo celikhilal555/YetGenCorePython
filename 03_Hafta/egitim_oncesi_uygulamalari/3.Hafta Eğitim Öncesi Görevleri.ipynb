{
  "cells": [
    {
      "cell_type": "markdown",
      "metadata": {
        "id": "tsD4YVAe_Te2"
      },
      "source": [
        "# Problem 1\n",
        "Bir sayının 7'ye bölünebilir olup olmadığını kontrol etmek \n",
        "için bir program yazın.\n",
        "\n",
        "İpucu: Mod operatörünü (%) kullanabilirsiniz."
      ]
    },
    {
      "cell_type": "code",
      "execution_count": 54,
      "metadata": {
        "id": "NGjvNwKx_Te7"
      },
      "outputs": [
        {
          "name": "stdout",
          "output_type": "stream",
          "text": [
            "23 , 7'ye bölünmez.\n"
          ]
        }
      ],
      "source": [
        "# 1.Problemin Çözümünü Buraya Yazınız\n",
        "\n",
        "a= int(input(\"Bir sayi giriniz: \"))\n",
        "\n",
        "if a % 7 == 0 :\n",
        "    print(f\"{a} , 7'ye tam bölünür.\")\n",
        "else :\n",
        "    print(f\"{a} , 7'ye bölünmez.\")    "
      ]
    },
    {
      "cell_type": "markdown",
      "metadata": {
        "id": "Kg3qiBAI_Te8"
      },
      "source": [
        "# Problem 2\n",
        "Kullanıcıdan vize ve final notu isteyin. Girilen vize notunun %40’ı ve \n",
        "girilen finalnotunun ise %60’ı alınarak yıl sonu not ortalaması hesaplanacaktır. \n",
        "\n",
        "Bu not ortalaması eğer 85 ve üzeri ise AA, \n",
        "\n",
        "75 ve 85 arasında ise BA, \n",
        "\n",
        "70 ve 75 arasında ise BB, \n",
        "\n",
        "65 ve 70 arasında ise CB,\n",
        "\n",
        "60 ve 65 arasında ise CC,\n",
        "\n",
        "55 ve 60 arasında ise DC,\n",
        "\n",
        "50 ve 55 arasında ise DD olarak hesaplanacaktır. \n",
        "\n",
        "Bu öğrencinin yıl sonu toplam notu 50’nin altında ise FF ile dersten kalacaktır. \n",
        "\n",
        "Ayrıca öğrencinin final notu 50’nin altında ise direkt FF ile kalacaktır."
      ]
    },
    {
      "cell_type": "code",
      "execution_count": 55,
      "metadata": {
        "id": "MXTtCxI1_Te8"
      },
      "outputs": [
        {
          "name": "stdout",
          "output_type": "stream",
          "text": [
            "Final notu 50'nin altında (FF) olduğu için kaldınız.\n"
          ]
        }
      ],
      "source": [
        "# 2.Problemin Çözümünü Buraya Yazınız\n",
        "\n",
        "vize=int(input(\"Vize notunu giriniz: \"))\n",
        "final=int(input(\"Final notunu giriniz: \"))\n",
        "\n",
        "x=((vize * 0.40) + (final * 0.60))  # Yıl sonu not ortalaması.\n",
        "\n",
        "if final<50:\n",
        "    print(\"Final notu 50'nin altında (FF) olduğu için kaldınız.\")\n",
        "elif x>=85 and x<100 :\n",
        "    print(\"Not ortalamanız AA\")\n",
        "elif x>=75 and x<85 :\n",
        "    print(\"Not ortalamanız BA\")  \n",
        "elif x>=70 and x<75 :\n",
        "    print(\"Not ortalamanız BB\")  \n",
        "elif x>=65 and x<70 :\n",
        "    print(\"Not ortalamanız CB\")\n",
        "elif x>=60 and x<65 :\n",
        "    print(\"Not ortalamanız CC\")   \n",
        "elif x>=55 and x<60 :\n",
        "    print(\"Not ortalamanız DC\") \n",
        "elif x>=50 and x<55 :\n",
        "    print(\"Not ortalamanız DD\")\n",
        "elif x>=0 and  x<50 :\n",
        "    print(\"Not ortalamanız FF\")\n",
        "    print(\"Dersten kaldınız.\")\n",
        "else :\n",
        "    print(\"Yanlış ders notu girdiniz tekrar giriniz.\")\n",
        "\n"
      ]
    },
    {
      "cell_type": "markdown",
      "metadata": {
        "id": "tAoRYCTC_Te8"
      },
      "source": [
        "# Problem 3\n",
        "İki YetGenli Zirve'de karşılaşıyorlar. Birbirlerini tanımak için sorular soruyorlar. Birbirlerine yaşlarını soruyorlar. Akıllarına bir Python programı yazıp, yaşlarını ve isimlerini giriyorlar. Büyük olanın yaşını ekrana yazdıran programı yazıyorlar. Sende bu iki YetGenli'ye destek olmak ister misin?\n",
        "\n",
        "```\n",
        "Birinci YetGenlinin ismi: Ahmet\n",
        "Birinci YetGenlinin yaşı : 20\n",
        "İkinci YetGenlinin ismi: Mehmet\n",
        "İkinci YetGenlinin yaşı : 25\n",
        "Mehmet'in yaşı daha büyük ve yaşı 25'tir.\n",
        "```"
      ]
    },
    {
      "cell_type": "code",
      "execution_count": 51,
      "metadata": {
        "id": "bPjE8W0i_Te8"
      },
      "outputs": [
        {
          "name": "stdout",
          "output_type": "stream",
          "text": [
            "Mehmet'in yaşı daha büyük ve yaşı 25\n"
          ]
        }
      ],
      "source": [
        "# 3.Problemin Çözümünü Buraya Yazınız\n",
        "\n",
        "YetGen1_isim=input(\"Birinci YetGenlinin ismi: \")\n",
        "YetGen1_yas=int(input(\"Birinci YetGenlinin yaşı: \"))\n",
        "YetGen2_isim=input(\"İkinci YetGenlinin ismi: \")\n",
        "YetGen2_yas=int(input(\"İkinci YetGenlinin yaşı: \"))\n",
        "\n",
        "if YetGen1_yas > YetGen2_yas :\n",
        "    print(f\"{YetGen1_isim}'in yaşı daha büyük ve yaşı {YetGen1_yas}\")\n",
        "elif YetGen1_yas < YetGen2_yas :\n",
        "    print(f\"{YetGen2_isim}'in yaşı daha büyük ve yaşı {YetGen2_yas}\")\n"
      ]
    },
    {
      "cell_type": "markdown",
      "metadata": {
        "id": "zBVv8Tyg_Te9"
      },
      "source": [
        "# Problem 4\n",
        "Pandemi döneminde AVM'lerde ateş ölçümü yapılıyor. AVM'ye giren kişinin ateş ölçümü 37.5 derecenin altında ise girişe izin veriliyor. 37.5 derecenin üstünde ise girişe izin verilmiyor. AVM'ye girişe izin verilip verilmediğini ekrana yazdıran bir program yazın.\n",
        "\n",
        "Program sonunda şöyle bir çıktı elde etmelisiniz:\n",
        "\n",
        "```\n",
        "Ateşiniz 37.5 derece. AVM'ye girebilirsin! Maske takmayı unutma!\n",
        "Ateşiniz 37.6 derece. AVM'ye giremezsin! Hemen evine dön!\n",
        "```"
      ]
    },
    {
      "cell_type": "code",
      "execution_count": 19,
      "metadata": {
        "id": "TSAXs8et_Te9"
      },
      "outputs": [
        {
          "name": "stdout",
          "output_type": "stream",
          "text": [
            "Ateşiniz 39.6 derece. AVM'ye giremezsin! Hemen evine dön!\n"
          ]
        }
      ],
      "source": [
        "# 4.Problemin Çözümünü Buraya Yazınız\n",
        "\n",
        "ates_olcum_degeri=float(input(\"Ateş ölçüm değeri: \"))\n",
        "\n",
        "if ates_olcum_degeri <= 37.5 :\n",
        "    print(f\"Ateşiniz {ates_olcum_degeri} derece. AVM'ye girebilirsin! Maske takmayı unutma!\")\n",
        "elif ates_olcum_degeri > 37.5 :\n",
        "    print(f\"Ateşiniz {ates_olcum_degeri} derece. AVM'ye giremezsin! Hemen evine dön!\")"
      ]
    },
    {
      "cell_type": "markdown",
      "metadata": {
        "id": "6AEkZrDt_Te9"
      },
      "source": [
        "# Problem 5\n",
        "YetGen bir spor kulübüyle sponsorluk anlaşması yapıyor. Kulüp, sponsorluk anlaşmasına göre her YetGen liderinin beden kitle indeksini hesaplamak istiyor. Spor kulübü, beden kitle indeksini hesaplamak için YetGen Jump Python liderlerinden Berkcan ve Ahmet'i arıyor. Berkcan ve Ahmet, kulübe yardımcı olmak için bir Python programı yazıyorlar. Sende bu iki YetGen liderine destek olmak ister misin?\n",
        "\n",
        "Kullanıcıdan alınan boy ve kilo değerlerine göre beden kitle indeksini hesaplayın ve şu kurallara göre ekrana şu yazıları yazdırın.\n",
        "\n",
        "\n",
        "Beden Kitle İndeksi, kişinin ağırlığının (kg olarak) boyunun karesine (m olarak) bölünmesiyle hesaplanır.\n",
        "\n",
        "\n",
        "```\n",
        " BKİ 18.5'un altındaysa -------> Zayıf\n",
        "\n",
        " BKİ 18.5 ile 25 arasındaysa ------> Normal\n",
        "\n",
        " BKİ 25 ile 30 arasındaysa --------> Fazla Kilolu\n",
        "\n",
        " BKİ 30'un üstündeyse -------------> Obez\n",
        "```\n",
        "\n"
      ]
    },
    {
      "cell_type": "code",
      "execution_count": 52,
      "metadata": {
        "id": "t-XPI_u0_Te-"
      },
      "outputs": [
        {
          "name": "stdout",
          "output_type": "stream",
          "text": [
            "BKİ 18.5 ile 25 arasındaysa -------> Normal\n"
          ]
        }
      ],
      "source": [
        "# 5.Problemin Çözümünü Buraya Yazınız\n",
        "\n",
        "kilo=float(input(\"Kilonuzu 'kilogram' cinsinden giriniz: \"))\n",
        "boy=float(input(\"Boyunuzu 'metre' cinsinden giriniz: \"))\n",
        "\n",
        "bki=kilo /boy**2\n",
        "\n",
        "if bki >= 0 and bki < 18.5 :\n",
        "    print(\"BKİ 18.5' in altındaysa -------> Zayıf\")\n",
        "elif bki >= 18.5 and bki < 25 :\n",
        "    print(\"BKİ 18.5 ile 25 arasındaysa -------> Normal\")\n",
        "elif bki >= 25 and bki < 30 :\n",
        "    print(\"BKİ 25 ile 30 arasındaysa -------> Fazla Kilolu\")\n",
        "elif bki >= 30 :\n",
        "    print(\"BKİ 30' un üstündeyse -------> Obez\")"
      ]
    },
    {
      "cell_type": "markdown",
      "metadata": {
        "id": "oFsvQyaO_Te-"
      },
      "source": [
        "# Problem 6\n",
        "Kullanıcıdan isim, yaş ve eğitim bilgilerini isteyip ehliyet alabilme  durumunu kontrol ediniz. \n",
        "\n",
        "Ehliyet alma koşulu en az 18 yaşında ve eğitim durumu lise ya da üniversite olmalıdır. "
      ]
    },
    {
      "cell_type": "code",
      "execution_count": 53,
      "metadata": {
        "id": "Tu2mcgco_Te-"
      },
      "outputs": [
        {
          "name": "stdout",
          "output_type": "stream",
          "text": [
            "Ehliyet alabilirsiniz.\n"
          ]
        }
      ],
      "source": [
        "# 6.Problemin Çözümünü Buraya Yazınız\n",
        "\n",
        "isim=input(\"Lütfen isminizi giriniz: \")\n",
        "yas=int(input(\"Lütfen yaşınızı giriniz: \"))\n",
        "egitim_durumu=input(\"Lütfen eğitim bilgilerinizi giriniz: \")\n",
        "\n",
        "if yas >= 18 and egitim_durumu == \"Lise\" or egitim_durumu == \"Üniversite\" :\n",
        "    print(\"Ehliyet alabilirsiniz.\")\n",
        "else :\n",
        "    print(\"Ehliyet alamazsınız.\")    "
      ]
    },
    {
      "cell_type": "markdown",
      "metadata": {
        "id": "eUkxVSAE_Te_"
      },
      "source": [
        "# Problem 7\n",
        "Bir yılın artık yıl olup olmadığını kontrol etmek için bir program yazın. \n",
        "Artık yıl kuralı:\n",
        "\n",
        "a) Eğer yılın son iki basamağı (00) ile bitmiyor ve yalnızca 4'e tam bölünüyorsa artık yıldır. Ya da, \n",
        "\n",
        "b) Eğer yıl 400'e tam bölünüyorsa artık yıldır.\n",
        "\n",
        "**Örneğin**\n",
        "```\n",
        "2017 artık yıl değildir.\n",
        "1900 artık yıl değildir\n",
        "2012 artık yıldır.\n",
        "2000 artık yıldır.\n",
        "```"
      ]
    },
    {
      "cell_type": "code",
      "execution_count": 48,
      "metadata": {
        "id": "4uWh8qUL_Te_"
      },
      "outputs": [
        {
          "name": "stdout",
          "output_type": "stream",
          "text": [
            "2000 artık yıldır.\n"
          ]
        }
      ],
      "source": [
        "# 7.Problemin Çözümünü Buraya Yazınız\n",
        "\n",
        "yil=int(input(\"Lütfen yılı giriniz: \"))\n",
        "\n",
        "if yil % 4 == 0 and yil % 100 != 0 or yil % 400 == 0 :\n",
        "    print(f\"{yil} artık yıldır.\")\n",
        "else :\n",
        "    print(f\"{yil} artık yıl değildir.\")\n",
        "\n",
        "\n"
      ]
    }
  ],
  "metadata": {
    "colab": {
      "provenance": []
    },
    "kernelspec": {
      "display_name": "Python 3",
      "language": "python",
      "name": "python3"
    },
    "language_info": {
      "codemirror_mode": {
        "name": "ipython",
        "version": 3
      },
      "file_extension": ".py",
      "mimetype": "text/x-python",
      "name": "python",
      "nbconvert_exporter": "python",
      "pygments_lexer": "ipython3",
      "version": "3.11.1"
    },
    "orig_nbformat": 4,
    "vscode": {
      "interpreter": {
        "hash": "aee8b7b246df8f9039afb4144a1f6fd8d2ca17a180786b69acc140d282b71a49"
      }
    }
  },
  "nbformat": 4,
  "nbformat_minor": 0
}

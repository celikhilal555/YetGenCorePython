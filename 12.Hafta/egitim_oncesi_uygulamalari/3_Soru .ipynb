{
  "cells": [
    {
      "cell_type": "markdown",
      "metadata": {
        "id": "B1pKLRfEyvlS"
      },
      "source": [
        "# Problem 3\n",
        "\n",
        "Çeşitli metin dosyalarından karakterleri ayıklamak ve bir listeye koymak için bir Python programı yazın. ```test.txt``` ve ```demo.txt``` dosyalarından faydalanabilirsiniz."
      ]
    },
    {
      "cell_type": "code",
      "execution_count": 2,
      "metadata": {
        "id": "n77qPr6tyzG-"
      },
      "outputs": [
        {
          "name": "stdout",
          "output_type": "stream",
          "text": [
            "test.txt karakterleri: ['B', 'e', 'r', 'k', 'c', 'a', 'n', 'E', 'm', 'i', 'r', 'h', 'a', 'n', 'Ç', 'a', 'ğ', 'l', 'a', 'E', 'n', 'e', 's', 'A', 'd', 'e', 'm', 'A', 'h', 'm', 'e', 't', 'B', 'e', 'y', 'z', 'a']\n",
            "demofile.txt karakterleri: ['H', 'e', 'l', 'l', 'o', '!', 'W', 'e', 'l', 'c', 'o', 'm', 'e', 't', 'o', 'd', 'e', 'm', 'o', 'f', 'i', 'l', 'e', '.', 't', 'x', 't', 'T', 'h', 'i', 's', 'f', 'i', 'l', 'e', 'i', 's', 'f', 'o', 'r', 't', 'e', 's', 't', 'i', 'n', 'g', 'p', 'u', 'r', 'p', 'o', 's', 'e', 's', '.', 'G', 'o', 'o', 'd', 'L', 'u', 'c', 'k', '!']\n"
          ]
        }
      ],
      "source": [
        "#Sorunun Çözmünü Buraya Gerçekleştirebilirsiniz\n",
        "\n",
        "def karakterleri_ayikla(dosya_adi):\n",
        "    with open(dosya_adi, \"r\") as dosya:\n",
        "        karakterler = []\n",
        "        for satir in dosya:\n",
        "            for karakter in satir:\n",
        "                if karakter != \" \" and karakter != \"\\n\":\n",
        "                    karakterler.append(karakter)\n",
        "    return karakterler\n",
        "\n",
        "\n",
        "test_karakterler = karakterleri_ayikla(\"test.txt\")\n",
        "demo_karakterler = karakterleri_ayikla(\"demofile.txt\")\n",
        "\n",
        "\n",
        "print(\"test.txt karakterleri:\", test_karakterler)\n",
        "print(\"demofile.txt karakterleri:\", demo_karakterler)\n",
        "\n",
        "\n",
        "\n"
      ]
    }
  ],
  "metadata": {
    "colab": {
      "provenance": []
    },
    "kernelspec": {
      "display_name": "Python 3",
      "language": "python",
      "name": "python3"
    },
    "language_info": {
      "codemirror_mode": {
        "name": "ipython",
        "version": 3
      },
      "file_extension": ".py",
      "mimetype": "text/x-python",
      "name": "python",
      "nbconvert_exporter": "python",
      "pygments_lexer": "ipython3",
      "version": "3.11.1"
    },
    "vscode": {
      "interpreter": {
        "hash": "aee8b7b246df8f9039afb4144a1f6fd8d2ca17a180786b69acc140d282b71a49"
      }
    }
  },
  "nbformat": 4,
  "nbformat_minor": 0
}

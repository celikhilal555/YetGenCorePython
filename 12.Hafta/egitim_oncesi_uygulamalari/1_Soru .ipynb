{
  "cells": [
    {
      "cell_type": "markdown",
      "metadata": {
        "id": "S33oJyyjyKgH"
      },
      "source": [
        "# Problem 1\n",
        "```test.txt``` dosyasındaki satır sayısını bularak ekrana yazdırınız.\n",
        "\n",
        "\n",
        "\n",
        "```\n",
        "> Output\n",
        "Number of lines in the file:  6\n",
        "\n",
        "```\n",
        "\n"
      ]
    },
    {
      "cell_type": "code",
      "execution_count": 1,
      "metadata": {
        "id": "POxFXvYByP0D"
      },
      "outputs": [
        {
          "name": "stdout",
          "output_type": "stream",
          "text": [
            "Number of lines in the file: 7\n"
          ]
        }
      ],
      "source": [
        "#Sorunun Çözmünü Buraya Gerçekleştirebilirsiniz\n",
        "\n",
        "with open(\"test.txt\", \"r\") as dosya:\n",
        "    satir_sayisi = 0\n",
        "    for satir in dosya:\n",
        "        satir_sayisi += 1\n",
        "\n",
        "print(\"Number of lines in the file:\", satir_sayisi)\n",
        "\n"
      ]
    },
    {
      "cell_type": "code",
      "execution_count": 2,
      "metadata": {},
      "outputs": [],
      "source": [
        "class Urunler:\n",
        "    def __init__(self):\n",
        "        self.urunler_listesi = []\n",
        "\n",
        "    def ekle(self, urun):\n",
        "        self.urunler_listesi.append(urun)\n",
        "\n",
        "class GramajliUrunler(Urunler):\n",
        "    def __init__(self):\n",
        "        super().__init__()\n",
        "        self.gramaj_listesi = []\n",
        "\n",
        "    def ekle(self, urun, gramaj):\n",
        "        self.urunler_listesi.append(urun)\n",
        "        self.gramaj_listesi.append(gramaj)\n",
        "\n",
        "class HacimliUrunler(Urunler):\n",
        "    def __init__(self):\n",
        "        super().__init__()\n",
        "        self.hacim_listesi = []\n",
        "\n",
        "    def ekle(self, urun, hacim):\n",
        "        self.urunler_listesi.append(urun)\n",
        "        self.hacim_listesi.append(hacim)\n",
        "\n"
      ]
    }
  ],
  "metadata": {
    "colab": {
      "provenance": []
    },
    "kernelspec": {
      "display_name": "Python 3",
      "language": "python",
      "name": "python3"
    },
    "language_info": {
      "codemirror_mode": {
        "name": "ipython",
        "version": 3
      },
      "file_extension": ".py",
      "mimetype": "text/x-python",
      "name": "python",
      "nbconvert_exporter": "python",
      "pygments_lexer": "ipython3",
      "version": "3.11.1"
    },
    "vscode": {
      "interpreter": {
        "hash": "aee8b7b246df8f9039afb4144a1f6fd8d2ca17a180786b69acc140d282b71a49"
      }
    }
  },
  "nbformat": 4,
  "nbformat_minor": 0
}

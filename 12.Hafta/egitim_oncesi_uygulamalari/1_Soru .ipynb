{
  "nbformat": 4,
  "nbformat_minor": 0,
  "metadata": {
    "colab": {
      "provenance": []
    },
    "kernelspec": {
      "name": "python3",
      "display_name": "Python 3"
    },
    "language_info": {
      "name": "python"
    }
  },
  "cells": [
    {
      "cell_type": "markdown",
      "source": [
        "# Problem 1\n",
        "```test.txt``` dosyasındaki satır sayısını bularak ekrana yazdırınız.\n",
        "\n",
        "\n",
        "\n",
        "```\n",
        "> Output\n",
        "Number of lines in the file:  6\n",
        "\n",
        "```\n",
        "\n"
      ],
      "metadata": {
        "id": "S33oJyyjyKgH"
      }
    },
    {
      "cell_type": "code",
      "source": [
        "#Sorunun Çözmünü Buraya Gerçekleştirebilirsiniz"
      ],
      "metadata": {
        "id": "POxFXvYByP0D"
      },
      "execution_count": null,
      "outputs": []
    }
  ]
}
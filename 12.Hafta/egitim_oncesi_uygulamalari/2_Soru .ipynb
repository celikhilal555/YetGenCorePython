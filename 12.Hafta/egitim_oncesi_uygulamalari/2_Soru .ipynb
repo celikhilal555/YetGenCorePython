{
  "nbformat": 4,
  "nbformat_minor": 0,
  "metadata": {
    "colab": {
      "provenance": []
    },
    "kernelspec": {
      "name": "python3",
      "display_name": "Python 3"
    },
    "language_info": {
      "name": "python"
    }
  },
  "cells": [
    {
      "cell_type": "markdown",
      "source": [
        " # Problem 2\n",
        " \n",
        "```test.txt``` dosyasını satır satır okuyun ve bir listede saklayınız. Daha sonra listeyi ekrana bastırınız."
      ],
      "metadata": {
        "id": "xdJPVw8Qym8-"
      }
    },
    {
      "cell_type": "code",
      "source": [
        "#Sorunun Çözmünü Buraya Gerçekleştirebilirsiniz"
      ],
      "metadata": {
        "id": "ERxLPkA1yqM9"
      },
      "execution_count": null,
      "outputs": []
    }
  ]
}
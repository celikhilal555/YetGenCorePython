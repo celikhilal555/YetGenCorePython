{
 "cells": [
  {
   "attachments": {},
   "cell_type": "markdown",
   "metadata": {},
   "source": [
    "# Problem 1"
   ]
  },
  {
   "cell_type": "code",
   "execution_count": 1,
   "metadata": {},
   "outputs": [
    {
     "name": "stdout",
     "output_type": "stream",
     "text": [
      "Üretilen Matris:\n",
      "[[ 9  1  4  9  0]\n",
      " [ 6  2  6 10  6]\n",
      " [ 5  0 10  7  9]\n",
      " [ 7  5 10  7  6]\n",
      " [ 4  3  1  8  4]]\n",
      "Matrisin Boyutu: (5, 5)\n",
      "Öncelikle Oluşturulan Matris:\n",
      "[[ 4 10  2  8  6]\n",
      " [ 9 10  2  7  1]\n",
      " [ 1  6  0 10  3]\n",
      " [ 8  8  6  5  8]\n",
      " [ 4  4  3  9  3]]\n",
      "Yeniden Boyutlandırılan Matris:\n",
      "[ 4 10  2  8  6  9 10  2  7  1  1  6  0 10  3  8  8  6  5  8  4  4  3  9\n",
      "  3]\n",
      "Matrisin Boyut Sayısı: 2\n"
     ]
    }
   ],
   "source": [
    "\n",
    "# 1 - numpy kütüphanesini import edin\n",
    "\n",
    "import numpy as np\n",
    "\n",
    "# 2 - 0 ile 10 arasında 5 sayıdan oluşan matris üretin\n",
    "\n",
    "matris = np.random.randint(0, 11, size=(5, 5))\n",
    "\n",
    "print(\"Üretilen Matris:\")\n",
    "print(matris)\n",
    "\n",
    "# 3 - matris'in boyutunu öğrenin\n",
    "\n",
    "\n",
    "matris = np.random.randint(0, 11, size=(5, 5))\n",
    "\n",
    "boyut = matris.shape\n",
    "\n",
    "print(\"Matrisin Boyutu:\", boyut)\n",
    "\n",
    "\n",
    "# 4 - matris'i yeniden boyutlandırın\n",
    "\n",
    "matris = np.random.randint(0, 11, size=(5, 5))\n",
    "\n",
    "print(\"Öncelikle Oluşturulan Matris:\")\n",
    "print(matris)\n",
    "\n",
    "yeniden_boyutlandirilmis_matris = np.reshape(matris, (25,))\n",
    "\n",
    "print(\"Yeniden Boyutlandırılan Matris:\")\n",
    "print(yeniden_boyutlandirilmis_matris)\n",
    "\n",
    "\n",
    "# 5 - matris'in boyut sayısını öğrenin\n",
    "\n",
    "matris = np.random.randint(0, 11, size=(5, 5))\n",
    "\n",
    "boyut_sayisi = matris.ndim\n",
    "\n",
    "print(\"Matrisin Boyut Sayısı:\", boyut_sayisi)\n"
   ]
  },
  {
   "attachments": {},
   "cell_type": "markdown",
   "metadata": {},
   "source": [
    "# Problem 2"
   ]
  },
  {
   "cell_type": "code",
   "execution_count": 5,
   "metadata": {},
   "outputs": [
    {
     "name": "stdout",
     "output_type": "stream",
     "text": [
      "Oluşturulan Matris:\n",
      "[[15  7 15]\n",
      " [ 9  9  7]\n",
      " [19 15  3]]\n",
      ">>>> Matrisi iki parçaya ayırma <<<<\n",
      "Parça 1:\n",
      "[[15  7]\n",
      " [ 9  9]]\n",
      "Parça 2:\n",
      "[[ 9  7]\n",
      " [15  3]]\n",
      ">>>> Parçalanmış matrisleri birleştirme <<<<\n",
      "Birleştirilen Matris:\n",
      "[[15  7  9  7]\n",
      " [ 9  9 15  3]]\n"
     ]
    }
   ],
   "source": [
    "# 1 - 0 ile 10 arasında bulunan tek sayılardan oluşan matris üretin\n",
    "\n",
    "import numpy as np\n",
    "\n",
    "matris = np.random.randint(1, 11, size=(3, 3)) * 2 - 1\n",
    "\n",
    "print(\"Oluşturulan Matris:\")\n",
    "print(matris)\n",
    "\n",
    "# 2 - Oluşturduğunuz matrisi parçalayın\n",
    "\n",
    "parca1 = matris[:2, :2]\n",
    "parca2 = matris[1:, 1:]\n",
    "\n",
    "print(\">>>> Matrisi iki parçaya ayırma <<<<\")\n",
    "\n",
    "print(\"Parça 1:\")\n",
    "print(parca1)\n",
    "print(\"Parça 2:\")\n",
    "print(parca2)\n",
    "\n",
    "# 3 - Parçalanmış matrisleri birleştirin\n",
    "\n",
    "birlesik_matris = np.concatenate((parca1, parca2), axis=1)\n",
    "\n",
    "print(\">>>> Parçalanmış matrisleri birleştirme <<<<\")\n",
    "print(\"Birleştirilen Matris:\")\n",
    "print(birlesik_matris)\n",
    "\n"
   ]
  },
  {
   "attachments": {},
   "cell_type": "markdown",
   "metadata": {},
   "source": [
    "# Problem 3"
   ]
  },
  {
   "cell_type": "code",
   "execution_count": 7,
   "metadata": {},
   "outputs": [
    {
     "name": "stdout",
     "output_type": "stream",
     "text": [
      "Matris:\n",
      " [[ 5  7]\n",
      " [11  3]\n",
      " [13 15]\n",
      " [19  9]\n",
      " [ 1 17]]\n",
      "Boyut (shape): (5, 2)\n",
      "Minimum değer: 1\n",
      "Maksimum değer: 19\n",
      "Toplam eleman sayısı: 10\n",
      "Ortalama değer: 10.0\n",
      "Standart sapma: 5.744562646538029\n",
      "Medyan: 10.0\n",
      "Mod: None\n",
      "Değerlerin toplamı: 100\n"
     ]
    }
   ],
   "source": [
    "# 1 - 5 ile 100 arasında ikişer ikişer atlayarak rastgele 10 sayıdan oluşan matris üretin\n",
    "\n",
    "matris = np.arange(1, 100, 2)[:10]\n",
    "np.random.shuffle(matris)\n",
    "matris = matris.reshape(5, 2)\n",
    "\n",
    "# 2 - matris'in özelliklerini inceleyin\n",
    "\n",
    "boyut = matris.shape\n",
    "minimum = np.min(matris)\n",
    "maksimum = np.max(matris)\n",
    "toplam_eleman_sayisi = np.size(matris)\n",
    "ortalama = np.mean(matris)\n",
    "standart_sapma = np.std(matris)\n",
    "medyan = np.median(matris)\n",
    "mod = None if len(np.unique(matris)) == len(matris.flatten()) else \"Yok\"\n",
    "toplam = np.sum(matris)\n",
    "\n",
    "print(\"Matris:\\n\", matris)\n",
    "print(\"Boyut (shape):\", boyut)\n",
    "print(\"Minimum değer:\", minimum)\n",
    "print(\"Maksimum değer:\", maksimum)\n",
    "print(\"Toplam eleman sayısı:\", toplam_eleman_sayisi)\n",
    "print(\"Ortalama değer:\", ortalama)\n",
    "print(\"Standart sapma:\", standart_sapma)\n",
    "print(\"Medyan:\", medyan)\n",
    "print(\"Mod:\", mod)\n",
    "print(\"Değerlerin toplamı:\", toplam)\n"
   ]
  }
 ],
 "metadata": {
  "kernelspec": {
   "display_name": "Python 3",
   "language": "python",
   "name": "python3"
  },
  "language_info": {
   "codemirror_mode": {
    "name": "ipython",
    "version": 3
   },
   "file_extension": ".py",
   "mimetype": "text/x-python",
   "name": "python",
   "nbconvert_exporter": "python",
   "pygments_lexer": "ipython3",
   "version": "3.11.1"
  },
  "orig_nbformat": 4,
  "vscode": {
   "interpreter": {
    "hash": "aee8b7b246df8f9039afb4144a1f6fd8d2ca17a180786b69acc140d282b71a49"
   }
  }
 },
 "nbformat": 4,
 "nbformat_minor": 2
}

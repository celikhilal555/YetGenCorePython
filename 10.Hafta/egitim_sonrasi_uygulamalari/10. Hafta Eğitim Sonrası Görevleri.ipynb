{
 "cells": [
  {
   "attachments": {},
   "cell_type": "markdown",
   "metadata": {},
   "source": [
    "# Problem 1 "
   ]
  },
  {
   "cell_type": "code",
   "execution_count": 155,
   "metadata": {},
   "outputs": [
    {
     "name": "stdout",
     "output_type": "stream",
     "text": [
      "[1 2 3 4 5]\n"
     ]
    }
   ],
   "source": [
    "# 1 - numpy kütüphanesini import edin\n",
    "\n",
    "import numpy as np\n",
    "\n",
    "# 2 - 5 elemanlı bir numpy array oluşturun\n",
    "\n",
    "arr = np.array([3, 1, 5, 2, 4])\n",
    "\n",
    "# 3 - Oluşturduğunuz arrayi küçükten büyüğe sıralayın.\n",
    "\n",
    "arr_sorted = np.sort(arr)\n",
    "\n",
    "print(arr_sorted)\n"
   ]
  },
  {
   "attachments": {},
   "cell_type": "markdown",
   "metadata": {},
   "source": [
    "# Problem 2"
   ]
  },
  {
   "cell_type": "code",
   "execution_count": 156,
   "metadata": {},
   "outputs": [
    {
     "name": "stdout",
     "output_type": "stream",
     "text": [
      "[10 15 30 45 60]\n"
     ]
    }
   ],
   "source": [
    "# 1- (10,15,30,45,60) değerlerine sahip numpy dizisi oluşturunuz.\n",
    "\n",
    "import numpy as np\n",
    "arr1 = np.array([10, 15, 30, 45, 60])\n",
    "print(arr1)"
   ]
  },
  {
   "cell_type": "code",
   "execution_count": 157,
   "metadata": {},
   "outputs": [
    {
     "name": "stdout",
     "output_type": "stream",
     "text": [
      "[ 5  6  7  8  9 10 11 12 13 14 15]\n"
     ]
    }
   ],
   "source": [
    "# 2- (5-15) arasındaki sayılarla numpy dizisi oluşturunuz.\n",
    "\n",
    "arr2 = np.arange(5,16)\n",
    "print(arr2)"
   ]
  },
  {
   "cell_type": "code",
   "execution_count": 158,
   "metadata": {},
   "outputs": [
    {
     "name": "stdout",
     "output_type": "stream",
     "text": [
      "[ 50  55  60  65  70  75  80  85  90  95 100]\n"
     ]
    }
   ],
   "source": [
    "# 3- (50-100) arasında 5'er 5'er artarak numpy dizisi oluşturunuz.\n",
    "\n",
    "arr3 = np.arange(50,101,5)\n",
    "print(arr3)"
   ]
  },
  {
   "cell_type": "code",
   "execution_count": 159,
   "metadata": {},
   "outputs": [
    {
     "name": "stdout",
     "output_type": "stream",
     "text": [
      "[0. 0. 0. 0. 0. 0. 0. 0. 0. 0.]\n"
     ]
    }
   ],
   "source": [
    "# 4- 10 elemanlı sıfırlardan oluşan bir dizi oluşturunuz.\n",
    "\n",
    "arr4 = np.zeros(10)\n",
    "print(arr4)"
   ]
  },
  {
   "cell_type": "code",
   "execution_count": 160,
   "metadata": {},
   "outputs": [
    {
     "name": "stdout",
     "output_type": "stream",
     "text": [
      "[1. 1. 1. 1. 1. 1. 1. 1. 1. 1.]\n"
     ]
    }
   ],
   "source": [
    "# 5- 10 elemanlı birlerden oluşan bir dizi oluşturunuz.\n",
    "\n",
    "arr5 = np.ones(10)\n",
    "print(arr5)"
   ]
  },
  {
   "cell_type": "code",
   "execution_count": 161,
   "metadata": {},
   "outputs": [
    {
     "name": "stdout",
     "output_type": "stream",
     "text": [
      "[  0.  25.  50.  75. 100.]\n"
     ]
    }
   ],
   "source": [
    "# 6- (0-100) arasında eşit aralıklı 5 sayı üretin.\n",
    "\n",
    "arr6 = np.linspace(0, 100, 5)\n",
    "print(arr6)"
   ]
  },
  {
   "cell_type": "code",
   "execution_count": 162,
   "metadata": {},
   "outputs": [
    {
     "name": "stdout",
     "output_type": "stream",
     "text": [
      "[25 18 12 11 15]\n"
     ]
    }
   ],
   "source": [
    "# 7- (10-30) arasında rastgele 5 tane tamsayı üretin.\n",
    "\n",
    "arr7 = np.random.randint(10, 31, 5)\n",
    "print(arr7)"
   ]
  },
  {
   "cell_type": "code",
   "execution_count": 163,
   "metadata": {},
   "outputs": [
    {
     "name": "stdout",
     "output_type": "stream",
     "text": [
      "[-0.6639429   0.6582073  -0.31418316 -0.45846639 -0.16556952  0.01637516\n",
      " -0.15558483 -0.72639607 -0.34126748 -0.4110615 ]\n"
     ]
    }
   ],
   "source": [
    "# 8- [-1 ile 1] arasında 10 adet sayı üretin.\n",
    "\n",
    "arr8 = np.random.uniform(-1, 1, 10)\n",
    "print(arr8)"
   ]
  },
  {
   "cell_type": "code",
   "execution_count": 164,
   "metadata": {},
   "outputs": [
    {
     "name": "stdout",
     "output_type": "stream",
     "text": [
      "[[31 22 41 45 13]\n",
      " [48 20 32 49 26]\n",
      " [40 47 23 37 13]]\n"
     ]
    }
   ],
   "source": [
    "# 9- (3x5) boyutlarında (10-50) arasında rastgele bir matris oluşturunuz.\n",
    "\n",
    "arr9 = np.random.randint(10, 51, (3,5))\n",
    "print(arr9)"
   ]
  },
  {
   "cell_type": "code",
   "execution_count": 165,
   "metadata": {},
   "outputs": [
    {
     "name": "stdout",
     "output_type": "stream",
     "text": [
      "Satır toplamları: [152 175 160]\n",
      "Sütun toplamları: [119  89  96 131  52]\n"
     ]
    }
   ],
   "source": [
    "# 10- Üretilen matrisin satır ve sütun sayıları toplamlarını hesaplayınız ?\n",
    "\n",
    "row_sum = np.sum(arr9, axis=1)\n",
    "col_sum = np.sum(arr9, axis=0)\n",
    "print(\"Satır toplamları:\", row_sum)\n",
    "print(\"Sütun toplamları:\", col_sum)"
   ]
  },
  {
   "cell_type": "code",
   "execution_count": 166,
   "metadata": {},
   "outputs": [
    {
     "name": "stdout",
     "output_type": "stream",
     "text": [
      "En büyük değer: 49\n",
      "En küçük değer: 13\n",
      "Ortalama değer: 32.46666666666667\n"
     ]
    }
   ],
   "source": [
    "# 11- Üretilen matrisin en büyük, en küçük ve ortalaması nedir ?\n",
    "\n",
    "max_val = np.max(arr9)\n",
    "min_val = np.min(arr9)\n",
    "mean_val = np.mean(arr9)\n",
    "print(\"En büyük değer:\", max_val)\n",
    "print(\"En küçük değer:\", min_val)\n",
    "print(\"Ortalama değer:\", mean_val)\n"
   ]
  },
  {
   "cell_type": "code",
   "execution_count": 167,
   "metadata": {},
   "outputs": [
    {
     "name": "stdout",
     "output_type": "stream",
     "text": [
      "En büyük değerin indeksi: 8\n"
     ]
    }
   ],
   "source": [
    "# 12- Üretilen matrisin en büyük değerinin indeksi kaçtır ?\n",
    "\n",
    "max_idx = np.argmax(arr9)\n",
    "print(\"En büyük değerin indeksi:\", max_idx)"
   ]
  },
  {
   "cell_type": "code",
   "execution_count": 168,
   "metadata": {},
   "outputs": [
    {
     "name": "stdout",
     "output_type": "stream",
     "text": [
      "[10 11 12]\n"
     ]
    }
   ],
   "source": [
    "# 13- (10-20) arasındaki sayıları içeren dizinin ilk 3 elemanını seçiniz.\n",
    "\n",
    "arr13 = np.arange(10, 21)\n",
    "print(arr13[:3])"
   ]
  },
  {
   "cell_type": "code",
   "execution_count": 169,
   "metadata": {},
   "outputs": [
    {
     "name": "stdout",
     "output_type": "stream",
     "text": [
      "[[40 47 23 37 13]\n",
      " [48 20 32 49 26]\n",
      " [31 22 41 45 13]]\n"
     ]
    }
   ],
   "source": [
    "# 14- Üretilen dizinin elemanlarını tersten yazdırın.\n",
    "\n",
    "print(arr9[::-1])\n"
   ]
  },
  {
   "cell_type": "code",
   "execution_count": 170,
   "metadata": {},
   "outputs": [
    {
     "name": "stdout",
     "output_type": "stream",
     "text": [
      "[31 22 41 45 13]\n"
     ]
    }
   ],
   "source": [
    "# 15- Üretilen matrisin ilk satırını seçiniz.\n",
    "\n",
    "first_row = arr9[0]\n",
    "print(first_row)"
   ]
  },
  {
   "cell_type": "code",
   "execution_count": 171,
   "metadata": {},
   "outputs": [
    {
     "name": "stdout",
     "output_type": "stream",
     "text": [
      "32\n"
     ]
    }
   ],
   "source": [
    "# 16- Üretilen matrisin 2.satır 3.sütundaki elemanı hangisidir ?\n",
    "\n",
    "element = arr9[1,2]\n",
    "print(element)"
   ]
  },
  {
   "cell_type": "code",
   "execution_count": 172,
   "metadata": {},
   "outputs": [
    {
     "name": "stdout",
     "output_type": "stream",
     "text": [
      "[31 48 40]\n"
     ]
    }
   ],
   "source": [
    "# 17- Üretilen matrisin tüm satırlardaki ilk elemanı seçiniz.\n",
    "\n",
    "first_elements = arr9[:,0]\n",
    "print(first_elements)"
   ]
  },
  {
   "cell_type": "code",
   "execution_count": 173,
   "metadata": {},
   "outputs": [
    {
     "name": "stdout",
     "output_type": "stream",
     "text": [
      "[[ 961  484 1681 2025  169]\n",
      " [2304  400 1024 2401  676]\n",
      " [1600 2209  529 1369  169]]\n"
     ]
    }
   ],
   "source": [
    "# 18- Üretilen matrisin her bir elemanının karesini alınız.\n",
    "\n",
    "squared_arr = np.square(arr9)\n",
    "print(squared_arr)"
   ]
  },
  {
   "cell_type": "code",
   "execution_count": 174,
   "metadata": {},
   "outputs": [
    {
     "name": "stdout",
     "output_type": "stream",
     "text": [
      "[22 48 20 32 26 40]\n"
     ]
    }
   ],
   "source": [
    "\n",
    "# 19- Üretilen matris elemanlarının hangisi pozitif çift sayıdır ? Aralığı (-50,+50) arasında yapınız.\n",
    "\n",
    "positive_even = arr9[(arr9 > 0) & (arr9 % 2 == 0)]\n",
    "print(positive_even)\n"
   ]
  }
 ],
 "metadata": {
  "kernelspec": {
   "display_name": "Python 3",
   "language": "python",
   "name": "python3"
  },
  "language_info": {
   "codemirror_mode": {
    "name": "ipython",
    "version": 3
   },
   "file_extension": ".py",
   "mimetype": "text/x-python",
   "name": "python",
   "nbconvert_exporter": "python",
   "pygments_lexer": "ipython3",
   "version": "3.11.1"
  },
  "orig_nbformat": 4,
  "vscode": {
   "interpreter": {
    "hash": "aee8b7b246df8f9039afb4144a1f6fd8d2ca17a180786b69acc140d282b71a49"
   }
  }
 },
 "nbformat": 4,
 "nbformat_minor": 2
}
